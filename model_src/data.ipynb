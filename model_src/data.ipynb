{
 "cells": [
  {
   "cell_type": "code",
   "id": "initial_id",
   "metadata": {
    "collapsed": true,
    "jupyter": {
     "outputs_hidden": true
    },
    "ExecuteTime": {
     "end_time": "2025-03-26T07:57:50.083048Z",
     "start_time": "2025-03-26T07:57:50.080157Z"
    }
   },
   "source": "import pandas as pd",
   "outputs": [],
   "execution_count": 2
  },
  {
   "cell_type": "code",
   "id": "91eba25346600a1c",
   "metadata": {},
   "source": [
    "data = pd.read_csv('fallraw_63000200.csv')\n",
    "data"
   ],
   "outputs": [],
   "execution_count": null
  },
  {
   "cell_type": "code",
   "id": "b65653629c3d4b1b",
   "metadata": {},
   "source": [
    "data = data.dropna(how=\"all\",axis=1)\n",
    "data = data.dropna()\n",
    "data['winddirection'].value_counts()\n",
    "data"
   ],
   "outputs": [],
   "execution_count": null
  },
  {
   "cell_type": "code",
   "id": "4ae83453efad0a14",
   "metadata": {},
   "source": [
    "# 定义风向到角度的映射\n",
    "wind_direction_map = {\n",
    "    'N': 0, 'NE': 45, 'E': 90, 'SE': 135,\n",
    "    'S': 180, 'SW': 225, 'W': 270, 'NW': 315\n",
    "}\n",
    "\n",
    "# 替换风向为角度\n",
    "data['winddirection'] = pd.to_numeric(data['winddirection'].replace(wind_direction_map), errors='coerce').infer_objects(copy=False)\n",
    "\n"
   ],
   "outputs": [],
   "execution_count": null
  },
  {
   "metadata": {},
   "cell_type": "code",
   "source": [
    "# for i in range(1,7):\n",
    "#     data[f'last{i}_120'] = data['rains'].shift(-i)\n",
    "#     data[f'last{i}_100'] = data['rains63000100'].shift(-i)\n",
    "# data.waterlevels = data.waterlevels.diff()\n",
    "from scipy.signal import savgol_filter\n",
    "import numpy as np\n",
    "poly_coeff = np.polyfit(range(len(data.times)), data['waterlevels'], deg=10)\n",
    "poly_fit = np.polyval(poly_coeff,range(len(data.times)))\n",
    "data_copy = data.copy()\n",
    "# data_copy['coeff'] = poly_fit\n",
    "data_copy = data_copy.drop(columns=['times', 'winddirection'])\n",
    "data_copy['waterlevels_smooth'] = savgol_filter(data['waterlevels'], window_length=6, polyorder=3)\n",
    "data_copy = data_copy.dropna()\n",
    "data_copy.to_csv('dataset.csv', index=False)\n",
    "data_copy"
   ],
   "id": "4a80f0b8e5062d3",
   "outputs": [],
   "execution_count": null
  },
  {
   "cell_type": "code",
   "id": "d984e6b6d732d377",
   "metadata": {},
   "source": [
    "# data_copy.coeff.head(300).plot()\n",
    "data_copy.waterlevels.plot()\n",
    "# data_copy.waterlevels63000120.plot()\n",
    "# data_copy.waterlevels63000100.plot()\n",
    "# data_copy.waterlevels_smooth.plot()"
   ],
   "outputs": [],
   "execution_count": null
  },
  {
   "metadata": {},
   "cell_type": "code",
   "source": "data_copy.corr()\n",
   "id": "74fe7fb0584cb6ba",
   "outputs": [],
   "execution_count": null
  },
  {
   "cell_type": "code",
   "id": "eb51db4fc5cb0176",
   "metadata": {
    "ExecuteTime": {
     "end_time": "2025-03-08T07:54:11.199725Z",
     "start_time": "2025-03-08T07:54:11.196244Z"
    }
   },
   "source": "no_time_data = data.drop(columns=['times'])",
   "outputs": [],
   "execution_count": 111
  },
  {
   "cell_type": "code",
   "id": "ed19ca87c70c6201",
   "metadata": {},
   "source": [
    "import seaborn as sns\n",
    "import matplotlib.pyplot as plt\n",
    "%matplotlib inline\n",
    "corr_matrix = no_time_data.corr()\n",
    "sns.heatmap(corr_matrix, annot=True, cmap='coolwarm', fmt=\".2f\")\n",
    "\n",
    "plt.title(\"Correlation Matrix Heatmap\")\n",
    "plt.show()"
   ],
   "outputs": [],
   "execution_count": null
  },
  {
   "cell_type": "code",
   "id": "daf00f74888f957d",
   "metadata": {},
   "source": [
    "from sklearn.model_selection import train_test_split\n",
    "from sklearn.linear_model import LinearRegression\n",
    "from sklearn.preprocessing import MinMaxScaler\n",
    "\n",
    "import numpy as np\n",
    "# 定义特征变量和目标变量\n",
    "data_o = no_time_data.drop(columns=['winddirection'])\n",
    "data_o - data_o.shift(-1)"
   ],
   "outputs": [],
   "execution_count": null
  },
  {
   "cell_type": "code",
   "execution_count": 37,
   "id": "cc032a12c793dc96",
   "metadata": {
    "ExecuteTime": {
     "end_time": "2025-03-03T03:28:04.658947Z",
     "start_time": "2025-03-03T03:28:04.626754Z"
    }
   },
   "outputs": [],
   "source": [
    "X, y = [],[]\n",
    "x_scaler = MinMaxScaler()\n",
    "y_scaler = MinMaxScaler()\n",
    "data = x_scaler.fit_transform(data_o)\n",
    "y_scaler.fit_transform(data_o['waterlevels'].values.reshape(-1, 1))\n",
    "seq_len = 1\n",
    "for i in range(len(data) - seq_len - 2):\n",
    "    X.append(data[i:i+seq_len,:-1])  # 10 天特征\n",
    "    y.append(data[i+seq_len,-1])  # 第 11 天水位\n",
    "# print(X[0])\n",
    "# print(y[0])\n",
    "X, y = np.array(X), np.array(y)\n",
    "X[:, -1] = np.sqrt(X[:, -1])\n",
    "\n",
    "X_train, X_test, y_train, y_test = train_test_split(X, y, test_size=0.2)\n",
    "# print(X.shape, y.shape)\n",
    "# print(X_train.shape, X_test.shape)"
   ]
  },
  {
   "cell_type": "code",
   "id": "40c8c6bd1ce5b3bd",
   "metadata": {},
   "source": [
    "from xgboost import XGBRegressor\n",
    "from sklearn.metrics import mean_squared_error\n",
    "import matplotlib.pyplot as plt\n",
    "xgb_model = XGBRegressor(n_estimators=100)\n",
    "# print(X_train.reshape(X_train.shape[0],-1).shape)\n",
    "print(type(X_train))\n",
    "xgb_model.fit(X_train.reshape(X_train.shape[0],-1), y_train)\n",
    "y_pred = xgb_model.predict(X_train.reshape(X_train.shape[0], -1))\n",
    "importance = xgb_model.feature_importances_\n",
    "print(importance.shape)\n",
    "plt.bar(range(importance.shape[0]),importance)\n",
    "rmse = np.sqrt(mean_squared_error(y_pred, y_train))\n",
    "rmse"
   ],
   "outputs": [],
   "execution_count": null
  },
  {
   "cell_type": "code",
   "execution_count": 291,
   "id": "f0ca2564f39c2351",
   "metadata": {
    "ExecuteTime": {
     "end_time": "2025-03-02T08:45:49.208745Z",
     "start_time": "2025-03-02T08:45:49.204964Z"
    }
   },
   "outputs": [],
   "source": [
    "import torch\n",
    "\n",
    "import torch.nn as nn\n",
    "import torch.optim as optim\n",
    "from torch.utils.data import DataLoader, TensorDataset"
   ]
  },
  {
   "cell_type": "code",
   "execution_count": 292,
   "id": "2547747e6b1e2b45",
   "metadata": {
    "ExecuteTime": {
     "end_time": "2025-03-02T08:45:49.817475Z",
     "start_time": "2025-03-02T08:45:49.812294Z"
    }
   },
   "outputs": [],
   "source": [
    "class LSTMModel(nn.Module):\n",
    "    def __init__(self, input_size=8, hidden_size=64, num_layers=2):\n",
    "        super(LSTMModel, self).__init__()\n",
    "        self.lstm = nn.LSTM(input_size, hidden_size, num_layers, batch_first=True)\n",
    "        self.fc = nn.Linear(hidden_size, 1)  # 预测一个数值\n",
    "\n",
    "    def forward(self, x):\n",
    "        # print(\"Input shape:\", x.shape)\n",
    "        out, _ = self.lstm(x)  # out: (batch_size, seq_len, hidden_size)\n",
    "        # print(\"LSTM output shape:\", out.shape)\n",
    "        out = self.fc(out[:, -1, :])  # 取最后一个时间步的输出\n",
    "        return out"
   ]
  },
  {
   "cell_type": "code",
   "execution_count": 293,
   "id": "46a4428fe9dff93b",
   "metadata": {
    "ExecuteTime": {
     "end_time": "2025-03-02T08:45:50.350766Z",
     "start_time": "2025-03-02T08:45:50.341282Z"
    }
   },
   "outputs": [],
   "source": [
    "device = torch.device(\"cuda\" if torch.cuda.is_available() else \"cpu\")\n",
    "model = LSTMModel().to(device)\n",
    "criterion = nn.MSELoss()\n",
    "optimizer = optim.Adam(model.parameters(), lr=0.001)"
   ]
  },
  {
   "cell_type": "code",
   "id": "c11c8ea637b7ef68",
   "metadata": {},
   "source": [
    "x_train = torch.tensor(X_train, dtype=torch.float32).to(device)\n",
    "x_test = torch.tensor(X_test, dtype=torch.float32).to(device)\n",
    "y_train = torch.tensor(y_train, dtype=torch.float32).to(device)\n",
    "y_test = torch.tensor(y_test, dtype=torch.float32).to(device)\n",
    "# y_train = y_train.clone().detach().to(torch.float32).to(device)\n",
    "# y_test = y_test.clone().detach().to(torch.float32).view(-1, 1).to(device)\n",
    "\n",
    "\n",
    "train_dataset = TensorDataset(x_train, y_train)\n",
    "test_dataset = TensorDataset(x_test, y_test)\n",
    "\n",
    "train_dataloader = DataLoader(train_dataset, batch_size=64)\n",
    "test_dataloader = DataLoader(test_dataset, batch_size=64)"
   ],
   "outputs": [],
   "execution_count": null
  },
  {
   "cell_type": "code",
   "id": "b1558aa80c2a3173",
   "metadata": {},
   "source": [
    "epochs = 20\n",
    "for epoch in range(epochs):\n",
    "    for x_batch, y_batch in train_dataloader:\n",
    "        optimizer.zero_grad()\n",
    "        y_pred = model(x_batch)\n",
    "        loss = criterion(y_pred, y_batch.view(-1, 1))\n",
    "        loss.backward()\n",
    "        optimizer.step()\n",
    "    print(f'Epoch {epoch+1}, Loss: {loss.item():.4f}')"
   ],
   "outputs": [],
   "execution_count": null
  },
  {
   "cell_type": "code",
   "id": "cb46f83abf8e9e58",
   "metadata": {},
   "source": [
    "model.eval()\n",
    "y_preds = []\n",
    "y_trues = []\n",
    "\n",
    "with torch.no_grad():\n",
    "    for X_batch, y_batch in test_dataloader:\n",
    "        X_batch, y_batch = X_batch.to(device), y_batch.to(device)\n",
    "        y_pred = model(X_batch).squeeze()\n",
    "\n",
    "        y_preds.extend(y_pred.cpu().numpy())\n",
    "        y_trues.extend(y_batch.cpu().numpy())\n",
    "print(y_preds[0])\n",
    "print(y_trues[0])"
   ],
   "outputs": [],
   "execution_count": null
  },
  {
   "cell_type": "code",
   "id": "a1c374df6906f989",
   "metadata": {},
   "source": [
    "y_preds = y_scaler.inverse_transform(np.array(y_preds).reshape(-1, 1))\n",
    "y_trues = y_scaler.inverse_transform(np.array(y_trues).reshape(-1, 1))\n",
    "print(y_preds[0])\n",
    "print(y_trues[0])\n",
    "from sklearn.metrics import mean_squared_error\n",
    "import numpy as np\n",
    "\n",
    "rmse = np.sqrt(mean_squared_error(y_trues, y_preds))\n",
    "print(f\"测试集 RMSE: {rmse:.4f}\")"
   ],
   "outputs": [],
   "execution_count": null
  },
  {
   "cell_type": "code",
   "id": "7d565ac3527a45df",
   "metadata": {},
   "source": [
    "import matplotlib.pyplot as plt\n",
    "plt.plot(range(100), y_preds[:100])\n",
    "plt.plot(range(100), y_trues[:100])"
   ],
   "outputs": [],
   "execution_count": null
  }
 ],
 "metadata": {
  "kernelspec": {
   "display_name": "Python 3 (ipykernel)",
   "language": "python",
   "name": "python3"
  },
  "language_info": {
   "codemirror_mode": {
    "name": "ipython",
    "version": 3
   },
   "file_extension": ".py",
   "mimetype": "text/x-python",
   "name": "python",
   "nbconvert_exporter": "python",
   "pygments_lexer": "ipython3",
   "version": "3.12.3"
  }
 },
 "nbformat": 4,
 "nbformat_minor": 5
}
